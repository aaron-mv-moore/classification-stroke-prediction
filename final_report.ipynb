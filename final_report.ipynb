{
 "cells": [
  {
   "cell_type": "markdown",
   "id": "premier-milan",
   "metadata": {},
   "source": [
    "# Stroke Prediction"
   ]
  },
  {
   "cell_type": "markdown",
   "id": "going-assembly",
   "metadata": {},
   "source": [
    "## Imports"
   ]
  },
  {
   "cell_type": "code",
   "execution_count": 29,
   "id": "divided-poster",
   "metadata": {},
   "outputs": [],
   "source": [
    "import warnings\n",
    "warnings.simplefilter('ignore')\n",
    "\n",
    "# imports \n",
    "from wrangle import get_data_csv, wrangle_data\n",
    "from explore import (get_age_visual,\n",
    "                     get_blood_sugar_visual,\n",
    "                     get_gender_visual, \n",
    "                     get_stroke_visual,\n",
    "                     eval_results)\n",
    "from model import preprocess, predictions, voting_predictions"
   ]
  },
  {
   "cell_type": "markdown",
   "id": "criminal-glory",
   "metadata": {},
   "source": [
    "## Acquire\n",
    "\n",
    "* This data was acquired by accessing Kaggle's data API on April 27th, 2023\n",
    "* There are 5110 observations and 12 features\n",
    "    * One observation is one person\n",
    "    * Each feature is a different characteristics about a person"
   ]
  },
  {
   "cell_type": "code",
   "execution_count": 2,
   "id": "paperback-gather",
   "metadata": {},
   "outputs": [
    {
     "data": {
      "text/html": [
       "<div>\n",
       "<style scoped>\n",
       "    .dataframe tbody tr th:only-of-type {\n",
       "        vertical-align: middle;\n",
       "    }\n",
       "\n",
       "    .dataframe tbody tr th {\n",
       "        vertical-align: top;\n",
       "    }\n",
       "\n",
       "    .dataframe thead th {\n",
       "        text-align: right;\n",
       "    }\n",
       "</style>\n",
       "<table border=\"1\" class=\"dataframe\">\n",
       "  <thead>\n",
       "    <tr style=\"text-align: right;\">\n",
       "      <th></th>\n",
       "      <th>id</th>\n",
       "      <th>gender</th>\n",
       "      <th>age</th>\n",
       "      <th>hypertension</th>\n",
       "      <th>heart_disease</th>\n",
       "      <th>ever_married</th>\n",
       "      <th>work_type</th>\n",
       "      <th>Residence_type</th>\n",
       "      <th>avg_glucose_level</th>\n",
       "      <th>bmi</th>\n",
       "      <th>smoking_status</th>\n",
       "      <th>stroke</th>\n",
       "    </tr>\n",
       "  </thead>\n",
       "  <tbody>\n",
       "    <tr>\n",
       "      <th>0</th>\n",
       "      <td>9046</td>\n",
       "      <td>Male</td>\n",
       "      <td>67.0</td>\n",
       "      <td>0</td>\n",
       "      <td>1</td>\n",
       "      <td>Yes</td>\n",
       "      <td>Private</td>\n",
       "      <td>Urban</td>\n",
       "      <td>228.69</td>\n",
       "      <td>36.6</td>\n",
       "      <td>formerly smoked</td>\n",
       "      <td>1</td>\n",
       "    </tr>\n",
       "    <tr>\n",
       "      <th>1</th>\n",
       "      <td>51676</td>\n",
       "      <td>Female</td>\n",
       "      <td>61.0</td>\n",
       "      <td>0</td>\n",
       "      <td>0</td>\n",
       "      <td>Yes</td>\n",
       "      <td>Self-employed</td>\n",
       "      <td>Rural</td>\n",
       "      <td>202.21</td>\n",
       "      <td>NaN</td>\n",
       "      <td>never smoked</td>\n",
       "      <td>1</td>\n",
       "    </tr>\n",
       "  </tbody>\n",
       "</table>\n",
       "</div>"
      ],
      "text/plain": [
       "      id  gender   age  hypertension  heart_disease ever_married  \\\n",
       "0   9046    Male  67.0             0              1          Yes   \n",
       "1  51676  Female  61.0             0              0          Yes   \n",
       "\n",
       "       work_type Residence_type  avg_glucose_level   bmi   smoking_status  \\\n",
       "0        Private          Urban             228.69  36.6  formerly smoked   \n",
       "1  Self-employed          Rural             202.21   NaN     never smoked   \n",
       "\n",
       "   stroke  \n",
       "0       1  \n",
       "1       1  "
      ]
     },
     "execution_count": 2,
     "metadata": {},
     "output_type": "execute_result"
    }
   ],
   "source": [
    "# importing data\n",
    "get_data_csv().head(2)"
   ]
  },
  {
   "cell_type": "markdown",
   "id": "impossible-bible",
   "metadata": {},
   "source": [
    "## Prepare\n",
    "\n",
    "#### Clean \n",
    ">    * Renamed columns to be pythonic\n",
    ">    * Dropped the 'smoking_status' column because 30% of the column values were 'Unknown'\n",
    ">    * Dropped the 'id' column because it will not add value during exploration or modeling\n",
    ">    * Dropped rows that were missing 'bmi' vlaues becasue they only made up 3% of the observations\n",
    ">    * *Outliers* remained becasue with health outliers can be a significant indicator for different illnesses or risk for illnesses\n",
    "\n",
    "#### Prepare\n",
    "> Bins were created for the following features:\n",
    ">    * *age:* Bins made based on what decade of years an individual had were created.\n",
    ">    * *bmi:* Five bins created. BMI has many correlations with health complications, but it is not a true measure of body fat. 5 bins based on the values present in the dataset were used instead of bins based on common interpretations.\n",
    "        * Source: https://onlinelibrary.wiley.com/doi/abs/10.1046/j.1467-789x.2001.00031.x\n",
    ">    * *avg_glucose_level:* There is not enough information to determine what tests were used (fasting, glucose tolerance test, or random) to calculate the average glucose level. The ranges proposed by the Glucose Tolerance Test from the CDC will be used as different categories in combination with Cleveland Clinic recommendation.\n",
    "        * Source: https://my.clevelandclinic.org/health/diagnostics/12363-blood-glucose-test\n",
    "        * Source: https://www.cdc.gov/diabetes/basics/getting-tested.html#:~:text=A%20fasting%20blood%20sugar%20level,higher%20indicates%20you%20have%20diabetes.\n",
    "#### Split\n",
    ">The data was split into train, validate, and test"
   ]
  },
  {
   "cell_type": "code",
   "execution_count": 3,
   "id": "flexible-irrigation",
   "metadata": {},
   "outputs": [],
   "source": [
    "# getting prepared and split data\n",
    "train, validate, test = wrangle_data()"
   ]
  },
  {
   "cell_type": "markdown",
   "id": "immediate-mirror",
   "metadata": {},
   "source": [
    "## Explore"
   ]
  },
  {
   "cell_type": "markdown",
   "id": "6b00453e",
   "metadata": {},
   "source": [
    "### 0. What does stroke look like in the dataset?"
   ]
  },
  {
   "cell_type": "code",
   "execution_count": 4,
   "id": "497c11bd",
   "metadata": {},
   "outputs": [
    {
     "data": {
      "image/png": "[encoded data removed]",
      "text/plain": [
       "<Figure size 640x480 with 1 Axes>"
      ]
     },
     "metadata": {},
     "output_type": "display_data"
    }
   ],
   "source": [
    "# get visual\n",
    "get_stroke_visual(train)"
   ]
  },
  {
   "cell_type": "markdown",
   "id": "797e9400",
   "metadata": {},
   "source": [
    "##### Takeaways:\n",
    "* The dataset is very imbalanced\n",
    "* The vast majority of the dataset contains observations without stroke which may cause challenges during modeling"
   ]
  },
  {
   "cell_type": "markdown",
   "id": "1bf50855",
   "metadata": {},
   "source": [
    "### 1. Demographics"
   ]
  },
  {
   "cell_type": "markdown",
   "id": "5b03f8e0",
   "metadata": {},
   "source": [
    " #### 1.1 Is there a relationship age and stroke?"
   ]
  },
  {
   "cell_type": "code",
   "execution_count": 22,
   "id": "284f3d3b",
   "metadata": {},
   "outputs": [
    {
     "data": {
      "image/png": "[encoded data removed]",
      "text/plain": [
       "<Figure size 640x480 with 1 Axes>"
      ]
     },
     "metadata": {},
     "output_type": "display_data"
    }
   ],
   "source": [
    "# get unbinned visual, a density plot, and binned visuals\n",
    "get_age_visual(train)"
   ]
  },
  {
   "cell_type": "markdown",
   "id": "c63719a4",
   "metadata": {},
   "source": [
    ">##### Takeaways:\n",
    ">* There is a significantly higher number of older individuals having strokes than younger individuals"
   ]
  },
  {
   "cell_type": "markdown",
   "id": "ab67b609",
   "metadata": {},
   "source": [
    "> ##### Chi-Squared:\n",
    ">- H$_0$: There is not a significant relationship between stroke and age.\n",
    ">- H$_a$: There is a significant relationship between stroke and age.\n",
    ">- Confidence Interval: 95%\n",
    ">- $a$: 0.05"
   ]
  },
  {
   "cell_type": "code",
   "execution_count": 33,
   "id": "0fa7decc",
   "metadata": {},
   "outputs": [
    {
     "name": "stdout",
     "output_type": "stream",
     "text": [
      "There exists some relationship between stroke and age bins. (p-value: 4.177429781371919e-32)\n"
     ]
    }
   ],
   "source": [
    "# get stats results\n",
    "eval_results(train, 'age_bins')"
   ]
  },
  {
   "cell_type": "markdown",
   "id": "a9987e90",
   "metadata": {},
   "source": [
    "We can reject the null hypothesis."
   ]
  },
  {
   "cell_type": "markdown",
   "id": "dd297381",
   "metadata": {},
   "source": [
    "#### 1.2 Is there a relationship between gender and stroke?"
   ]
  },
  {
   "cell_type": "code",
   "execution_count": 23,
   "id": "c0f40394",
   "metadata": {},
   "outputs": [
    {
     "data": {
      "image/png": "[encoded data removed]",
      "text/plain": [
       "<Figure size 640x480 with 1 Axes>"
      ]
     },
     "metadata": {},
     "output_type": "display_data"
    }
   ],
   "source": [
    "# get unbinned visual, a density plot, and binned visuals\n",
    "get_gender_visual(train)"
   ]
  },
  {
   "cell_type": "markdown",
   "id": "1f475888",
   "metadata": {},
   "source": [
    "> ##### Takeaways:\n",
    "> * There doesn't appear to be a relationship between gender and stroke.\n",
    "> * 'Other': The lack of stroke in it's proportions is not because of the  of strokes relationship to the other gender, but becasue the other gender is especially small in this dataset."
   ]
  },
  {
   "cell_type": "markdown",
   "id": "8078f715",
   "metadata": {},
   "source": [
    "> ##### Chi-Squared:\n",
    ">- H$_0$: There is not a significant relationship between stroke and gender.\n",
    ">- H$_a$: There is a significant relationship between stroke and gender.\n",
    ">- Confidence Interval: 95%\n",
    ">- $a$: 0.05"
   ]
  },
  {
   "cell_type": "code",
   "execution_count": 31,
   "id": "d900abee",
   "metadata": {},
   "outputs": [
    {
     "name": "stdout",
     "output_type": "stream",
     "text": [
      "There is not a significant relationship between stroke and gender. (p-value: 0.6258280133763303)\n"
     ]
    }
   ],
   "source": [
    "# get stats results\n",
    "eval_results(train, 'gender')"
   ]
  },
  {
   "cell_type": "markdown",
   "id": "49deaa57",
   "metadata": {},
   "source": [
    "We cannot reject the null hypothesis."
   ]
  },
  {
   "cell_type": "markdown",
   "id": "4a2bc95b",
   "metadata": {},
   "source": [
    "### 2. Is there a relationship between blood sugar level and stroke?"
   ]
  },
  {
   "cell_type": "code",
   "execution_count": 24,
   "id": "eea181fa",
   "metadata": {},
   "outputs": [
    {
     "data": {
      "image/png": "[encoded data removed]",
      "text/plain": [
       "<Figure size 640x480 with 1 Axes>"
      ]
     },
     "metadata": {},
     "output_type": "display_data"
    }
   ],
   "source": [
    "# getting blood sugar\n",
    "get_blood_sugar_visual(train)"
   ]
  },
  {
   "cell_type": "markdown",
   "id": "3a4a3d7d",
   "metadata": {},
   "source": [
    ">##### Takeaways:\n",
    ">* There appears to be two clusters of people, one cluster with average blood sugar and one group with high blood suger.\n",
    ">* There appears to be a relationship between high blood sugar and stroke. \n",
    ">* Exploring  individuals with average blood sugar levels and stroke may be useful for identifying other features of interest that increase the risk of stroke for this group."
   ]
  },
  {
   "cell_type": "markdown",
   "id": "e5c3873e",
   "metadata": {},
   "source": [
    "> ##### Chi-Squared:\n",
    ">- H$_0$: There is not a significant relationship between stroke and blood sugar levels.\n",
    ">- H$_a$: There is a significant relationship between stroke and blood sugar levels.\n",
    ">- Confidence Interval: 95%\n",
    ">- $a$: 0.05"
   ]
  },
  {
   "cell_type": "code",
   "execution_count": 30,
   "id": "63d2c35e",
   "metadata": {
    "scrolled": true
   },
   "outputs": [
    {
     "name": "stdout",
     "output_type": "stream",
     "text": [
      "There exists some relationship between stroke and glucose bins. (p-value: 2.7168064860811865e-11)\n"
     ]
    }
   ],
   "source": [
    "# getting stats\n",
    "eval_results(train, 'glucose_bins')"
   ]
  },
  {
   "cell_type": "markdown",
   "id": "2de2ff4d",
   "metadata": {},
   "source": [
    "We can reject the null hypothesis."
   ]
  },
  {
   "cell_type": "markdown",
   "id": "iraqi-sellers",
   "metadata": {},
   "source": [
    "## Exploration Summary\n",
    "* The dataset is imbalanced\n",
    "* Age and blood sugar appear to have an association with stroke\n",
    "* Gender did not have a relationship with stroke\n",
    "\n",
    "**Features for modeling:**\n",
    "* 'hypertension'\n",
    "* 'heart_disease'\n",
    "* 'age_bins'\n",
    "* 'glucose_bins'\n",
    "* 'bmi_bins'\n",
    "* 'ever_married'\n",
    "* 'work_type'"
   ]
  },
  {
   "cell_type": "markdown",
   "id": "minus-tulsa",
   "metadata": {},
   "source": [
    "## Modeling"
   ]
  },
  {
   "cell_type": "code",
   "execution_count": 17,
   "id": "5ec6a097",
   "metadata": {},
   "outputs": [],
   "source": [
    "# preprocessing\n",
    "X_train, y_train, X_resample, y_resample, X_validate, y_validate, X_test, y_test = preprocess()"
   ]
  },
  {
   "cell_type": "markdown",
   "id": "hydraulic-spectrum",
   "metadata": {},
   "source": [
    "### Introduction\n",
    "* Models will be evaluated using recall score as the focus\n",
    "* Strokes can be life threatening conditions. Correctly identifying those with the highest risk of stroke could potentially save lives. Recall scores allow us to understamd how often True Positives (stroke) are predicted by the model. \n",
    "* The baseline is a constant value of zero, which represents no stroke, becasue this was the most occuring value."
   ]
  },
  {
   "cell_type": "markdown",
   "id": "a42882b1",
   "metadata": {},
   "source": [
    "### Models and Scores"
   ]
  },
  {
   "cell_type": "code",
   "execution_count": 18,
   "id": "ranging-rebecca",
   "metadata": {},
   "outputs": [
    {
     "data": {
      "text/html": [
       "<div>\n",
       "<style scoped>\n",
       "    .dataframe tbody tr th:only-of-type {\n",
       "        vertical-align: middle;\n",
       "    }\n",
       "\n",
       "    .dataframe tbody tr th {\n",
       "        vertical-align: top;\n",
       "    }\n",
       "\n",
       "    .dataframe thead th {\n",
       "        text-align: right;\n",
       "    }\n",
       "</style>\n",
       "<table border=\"1\" class=\"dataframe\">\n",
       "  <thead>\n",
       "    <tr style=\"text-align: right;\">\n",
       "      <th>Algorithm</th>\n",
       "      <th>Baseline</th>\n",
       "      <th>GradientBoosting</th>\n",
       "      <th>LogisticRegression</th>\n",
       "      <th>SVC</th>\n",
       "    </tr>\n",
       "  </thead>\n",
       "  <tbody>\n",
       "    <tr>\n",
       "      <th>Recall Score</th>\n",
       "      <td>0.0</td>\n",
       "      <td>88.0</td>\n",
       "      <td>78.0</td>\n",
       "      <td>86.0</td>\n",
       "    </tr>\n",
       "    <tr>\n",
       "      <th>Accuracy Score</th>\n",
       "      <td>96.0</td>\n",
       "      <td>71.0</td>\n",
       "      <td>65.0</td>\n",
       "      <td>66.0</td>\n",
       "    </tr>\n",
       "    <tr>\n",
       "      <th>Precision Score</th>\n",
       "      <td>0.0</td>\n",
       "      <td>12.0</td>\n",
       "      <td>9.0</td>\n",
       "      <td>10.0</td>\n",
       "    </tr>\n",
       "    <tr>\n",
       "      <th>f1 Score</th>\n",
       "      <td>0.0</td>\n",
       "      <td>21.0</td>\n",
       "      <td>16.0</td>\n",
       "      <td>18.0</td>\n",
       "    </tr>\n",
       "    <tr>\n",
       "      <th>Confusion Matrix</th>\n",
       "      <td>[[2631, 0], [117, 0]]</td>\n",
       "      <td>[[1848, 783], [14, 103]]</td>\n",
       "      <td>[[1699, 932], [26, 91]]</td>\n",
       "      <td>[[1711, 920], [16, 101]]</td>\n",
       "    </tr>\n",
       "  </tbody>\n",
       "</table>\n",
       "</div>"
      ],
      "text/plain": [
       "Algorithm                      Baseline          GradientBoosting  \\\n",
       "Recall Score                        0.0                      88.0   \n",
       "Accuracy Score                     96.0                      71.0   \n",
       "Precision Score                     0.0                      12.0   \n",
       "f1 Score                            0.0                      21.0   \n",
       "Confusion Matrix  [[2631, 0], [117, 0]]  [[1848, 783], [14, 103]]   \n",
       "\n",
       "Algorithm              LogisticRegression                       SVC  \n",
       "Recall Score                         78.0                      86.0  \n",
       "Accuracy Score                       65.0                      66.0  \n",
       "Precision Score                       9.0                      10.0  \n",
       "f1 Score                             16.0                      18.0  \n",
       "Confusion Matrix  [[1699, 932], [26, 91]]  [[1711, 920], [16, 101]]  "
      ]
     },
     "execution_count": 18,
     "metadata": {},
     "output_type": "execute_result"
    }
   ],
   "source": [
    "# getting predictons on train\n",
    "predictions(X_resample, y_resample, X_train, y_train).T"
   ]
  },
  {
   "cell_type": "code",
   "execution_count": 19,
   "id": "b4ed6396",
   "metadata": {},
   "outputs": [
    {
     "data": {
      "text/html": [
       "<div>\n",
       "<style scoped>\n",
       "    .dataframe tbody tr th:only-of-type {\n",
       "        vertical-align: middle;\n",
       "    }\n",
       "\n",
       "    .dataframe tbody tr th {\n",
       "        vertical-align: top;\n",
       "    }\n",
       "\n",
       "    .dataframe thead th {\n",
       "        text-align: right;\n",
       "    }\n",
       "</style>\n",
       "<table border=\"1\" class=\"dataframe\">\n",
       "  <thead>\n",
       "    <tr style=\"text-align: right;\">\n",
       "      <th>Algorithm</th>\n",
       "      <th>Baseline</th>\n",
       "      <th>GradientBoosting</th>\n",
       "      <th>LogisticRegression</th>\n",
       "      <th>SVC</th>\n",
       "    </tr>\n",
       "  </thead>\n",
       "  <tbody>\n",
       "    <tr>\n",
       "      <th>Recall Score</th>\n",
       "      <td>0.0</td>\n",
       "      <td>62.0</td>\n",
       "      <td>78.0</td>\n",
       "      <td>76.0</td>\n",
       "    </tr>\n",
       "    <tr>\n",
       "      <th>Accuracy Score</th>\n",
       "      <td>96.0</td>\n",
       "      <td>71.0</td>\n",
       "      <td>66.0</td>\n",
       "      <td>67.0</td>\n",
       "    </tr>\n",
       "    <tr>\n",
       "      <th>Precision Score</th>\n",
       "      <td>0.0</td>\n",
       "      <td>9.0</td>\n",
       "      <td>9.0</td>\n",
       "      <td>9.0</td>\n",
       "    </tr>\n",
       "    <tr>\n",
       "      <th>f1 Score</th>\n",
       "      <td>0.0</td>\n",
       "      <td>15.0</td>\n",
       "      <td>16.0</td>\n",
       "      <td>17.0</td>\n",
       "    </tr>\n",
       "    <tr>\n",
       "      <th>Confusion Matrix</th>\n",
       "      <td>[[1129, 0], [50, 0]]</td>\n",
       "      <td>[[802, 327], [19, 31]]</td>\n",
       "      <td>[[734, 395], [11, 39]]</td>\n",
       "      <td>[[757, 372], [12, 38]]</td>\n",
       "    </tr>\n",
       "  </tbody>\n",
       "</table>\n",
       "</div>"
      ],
      "text/plain": [
       "Algorithm                     Baseline        GradientBoosting  \\\n",
       "Recall Score                       0.0                    62.0   \n",
       "Accuracy Score                    96.0                    71.0   \n",
       "Precision Score                    0.0                     9.0   \n",
       "f1 Score                           0.0                    15.0   \n",
       "Confusion Matrix  [[1129, 0], [50, 0]]  [[802, 327], [19, 31]]   \n",
       "\n",
       "Algorithm             LogisticRegression                     SVC  \n",
       "Recall Score                        78.0                    76.0  \n",
       "Accuracy Score                      66.0                    67.0  \n",
       "Precision Score                      9.0                     9.0  \n",
       "f1 Score                            16.0                    17.0  \n",
       "Confusion Matrix  [[734, 395], [11, 39]]  [[757, 372], [12, 38]]  "
      ]
     },
     "execution_count": 19,
     "metadata": {},
     "output_type": "execute_result"
    }
   ],
   "source": [
    "# getting predictons on validate\n",
    "predictions(X_resample, y_resample, X_validate, y_validate).T"
   ]
  },
  {
   "cell_type": "code",
   "execution_count": 20,
   "id": "880ca8e6",
   "metadata": {},
   "outputs": [
    {
     "data": {
      "text/html": [
       "<div>\n",
       "<style scoped>\n",
       "    .dataframe tbody tr th:only-of-type {\n",
       "        vertical-align: middle;\n",
       "    }\n",
       "\n",
       "    .dataframe tbody tr th {\n",
       "        vertical-align: top;\n",
       "    }\n",
       "\n",
       "    .dataframe thead th {\n",
       "        text-align: right;\n",
       "    }\n",
       "</style>\n",
       "<table border=\"1\" class=\"dataframe\">\n",
       "  <thead>\n",
       "    <tr style=\"text-align: right;\">\n",
       "      <th>Algorithm</th>\n",
       "      <th>Baseline</th>\n",
       "      <th>GradientBoosting</th>\n",
       "      <th>LogisticRegression</th>\n",
       "      <th>SVC</th>\n",
       "    </tr>\n",
       "  </thead>\n",
       "  <tbody>\n",
       "    <tr>\n",
       "      <th>Recall Score</th>\n",
       "      <td>0.0</td>\n",
       "      <td>26.0</td>\n",
       "      <td>0.0</td>\n",
       "      <td>10.0</td>\n",
       "    </tr>\n",
       "    <tr>\n",
       "      <th>Accuracy Score</th>\n",
       "      <td>0.0</td>\n",
       "      <td>0.0</td>\n",
       "      <td>-1.0</td>\n",
       "      <td>-1.0</td>\n",
       "    </tr>\n",
       "    <tr>\n",
       "      <th>Precision Score</th>\n",
       "      <td>0.0</td>\n",
       "      <td>3.0</td>\n",
       "      <td>0.0</td>\n",
       "      <td>1.0</td>\n",
       "    </tr>\n",
       "    <tr>\n",
       "      <th>f1 Score</th>\n",
       "      <td>0.0</td>\n",
       "      <td>6.0</td>\n",
       "      <td>0.0</td>\n",
       "      <td>1.0</td>\n",
       "    </tr>\n",
       "    <tr>\n",
       "      <th>Confusion Matrix</th>\n",
       "      <td>[[1502, 0], [67, 0]]</td>\n",
       "      <td>[[1046, 456], [-5, 72]]</td>\n",
       "      <td>[[965, 537], [15, 52]]</td>\n",
       "      <td>[[954, 548], [4, 63]]</td>\n",
       "    </tr>\n",
       "  </tbody>\n",
       "</table>\n",
       "</div>"
      ],
      "text/plain": [
       "Algorithm                     Baseline         GradientBoosting  \\\n",
       "Recall Score                       0.0                     26.0   \n",
       "Accuracy Score                     0.0                      0.0   \n",
       "Precision Score                    0.0                      3.0   \n",
       "f1 Score                           0.0                      6.0   \n",
       "Confusion Matrix  [[1502, 0], [67, 0]]  [[1046, 456], [-5, 72]]   \n",
       "\n",
       "Algorithm             LogisticRegression                    SVC  \n",
       "Recall Score                         0.0                   10.0  \n",
       "Accuracy Score                      -1.0                   -1.0  \n",
       "Precision Score                      0.0                    1.0  \n",
       "f1 Score                             0.0                    1.0  \n",
       "Confusion Matrix  [[965, 537], [15, 52]]  [[954, 548], [4, 63]]  "
      ]
     },
     "execution_count": 20,
     "metadata": {},
     "output_type": "execute_result"
    }
   ],
   "source": [
    "# getting difference between train and validate\n",
    "(predictions(X_resample, y_resample, X_train, y_train) - predictions(X_resample, y_resample, X_validate, y_validate)).T"
   ]
  },
  {
   "cell_type": "markdown",
   "id": "emotional-purchase",
   "metadata": {},
   "source": [
    " "
   ]
  },
  {
   "cell_type": "markdown",
   "id": "b12a955b",
   "metadata": {},
   "source": [
    "### Test\n",
    "* When running these models with no set random state, their strength varies. Logistic Regression maintains the most stable scores between test and validate, but often performs with a smaller recall score than the others.\n",
    "* There are often large differences in performance between the train and validate sets.\n",
    "* We will use a VotingClassifier model that uses all three models to decide what to do. This will allow us to maintin consistently strong results, reducing the impact of the random state and the data fed to the model."
   ]
  },
  {
   "cell_type": "code",
   "execution_count": 21,
   "id": "6b0a5206",
   "metadata": {},
   "outputs": [
    {
     "data": {
      "text/html": [
       "<div>\n",
       "<style scoped>\n",
       "    .dataframe tbody tr th:only-of-type {\n",
       "        vertical-align: middle;\n",
       "    }\n",
       "\n",
       "    .dataframe tbody tr th {\n",
       "        vertical-align: top;\n",
       "    }\n",
       "\n",
       "    .dataframe thead th {\n",
       "        text-align: right;\n",
       "    }\n",
       "</style>\n",
       "<table border=\"1\" class=\"dataframe\">\n",
       "  <thead>\n",
       "    <tr style=\"text-align: right;\">\n",
       "      <th>Algorithm</th>\n",
       "      <th>VotingClassifier_uniform</th>\n",
       "    </tr>\n",
       "  </thead>\n",
       "  <tbody>\n",
       "    <tr>\n",
       "      <th>Recall Score</th>\n",
       "      <td>74.0</td>\n",
       "    </tr>\n",
       "    <tr>\n",
       "      <th>Accuracy Score</th>\n",
       "      <td>66.0</td>\n",
       "    </tr>\n",
       "    <tr>\n",
       "      <th>Precision Score</th>\n",
       "      <td>9.0</td>\n",
       "    </tr>\n",
       "    <tr>\n",
       "      <th>f1 Score</th>\n",
       "      <td>16.0</td>\n",
       "    </tr>\n",
       "    <tr>\n",
       "      <th>Confusion Matrix</th>\n",
       "      <td>[[615, 325], [11, 31]]</td>\n",
       "    </tr>\n",
       "  </tbody>\n",
       "</table>\n",
       "</div>"
      ],
      "text/plain": [
       "Algorithm        VotingClassifier_uniform\n",
       "Recall Score                         74.0\n",
       "Accuracy Score                       66.0\n",
       "Precision Score                       9.0\n",
       "f1 Score                             16.0\n",
       "Confusion Matrix   [[615, 325], [11, 31]]"
      ]
     },
     "execution_count": 21,
     "metadata": {},
     "output_type": "execute_result"
    }
   ],
   "source": [
    "# getting the voting classifier scores on test\n",
    "voting_predictions(X_resample, y_resample, X_test, y_test)"
   ]
  },
  {
   "cell_type": "markdown",
   "id": "bright-evans",
   "metadata": {},
   "source": [
    "### Modeling Wrap \n",
    "* All models performed better than the baseline when using recall as the core metric"
   ]
  },
  {
   "cell_type": "markdown",
   "id": "tutorial-twelve",
   "metadata": {},
   "source": [
    "## Conclusion\n",
    "\n",
    "### Summary\n",
    "* Stroke represented roughly 5% of the data which influenced the decision to oversample to accomodate for an imbalanced dataset\n",
    "* Demographically, only age had a significant relationship to stroke, while gender's independence could not be rejected\n",
    "* Average blood sugar level was found to have a statistically significant relationship to stroke\n",
    "* Preprocessing included oversampling as mentioned previously\n",
    "* Models created varied in strength and consistency therefore a VotingClassifier combining the results of the three strongest and most consistent models was used\n",
    "* On test, this model performed with a 74% recall and a 66% accuracy.\n",
    "\n",
    "### Recommendations\n",
    "* Acquire more health and demographic data\n",
    "* Increase the robustness of the smoking_status data\n",
    "* Use this model as a preliminary screening tool to asses stroke risk\n",
    "\n",
    "### Next Steps\n",
    "* Explore a mulit-variate analysis\n",
    "* Feature engineer using clustering to further explore the blood sugar levels\n",
    "* Adjust hyperparameters of models"
   ]
  }
 ],
 "metadata": {
  "kernelspec": {
   "display_name": "Python 3 (ipykernel)",
   "language": "python",
   "name": "python3"
  },
  "language_info": {
   "codemirror_mode": {
    "name": "ipython",
    "version": 3
   },
   "file_extension": ".py",
   "mimetype": "text/x-python",
   "name": "python",
   "nbconvert_exporter": "python",
   "pygments_lexer": "ipython3",
   "version": "3.9.13"
  }
 },
 "nbformat": 4,
 "nbformat_minor": 5
}
