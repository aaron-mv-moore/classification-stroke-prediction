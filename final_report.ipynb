{
 "cells": [
  {
   "cell_type": "markdown",
   "id": "premier-milan",
   "metadata": {},
   "source": [
    "# Stroke Prediction"
   ]
  },
  {
   "cell_type": "markdown",
   "id": "going-assembly",
   "metadata": {},
   "source": [
    "## Imports"
   ]
  },
  {
   "cell_type": "code",
   "execution_count": 1,
   "id": "divided-poster",
   "metadata": {},
   "outputs": [],
   "source": [
    "# installs\n",
    "# !pip install opendatasets --upgrade\n",
    "# !pip install -U imbalanced-learn\n",
    "\n",
    "# imports\n",
    "import warnings\n",
    "warnings.simplefilter('ignore')\n",
    "\n",
    "\n",
    "# imports \n",
    "from wrangle import get_data_csv, wrangle_data\n",
    "from explore import (get_age_visual,\n",
    "                     get_blood_sugar_visual,\n",
    "                     get_gender_visual, \n",
    "                     get_stroke_visual,\n",
    "                     eval_results)\n",
    "from model import preprocess, predictions, voting_predictions"
   ]
  },
  {
   "cell_type": "markdown",
   "id": "criminal-glory",
   "metadata": {},
   "source": [
    "## Acquire\n",
    "\n",
    "* This data was acquired by accessing Kaggle's data API on April 27th, 2023\n",
    "* There are 5110 observations and 12 features\n",
    "    * One observation is one person\n",
    "    * Each feature is a different characteristics about a person"
   ]
  },
  {
   "cell_type": "code",
   "execution_count": 2,
   "id": "paperback-gather",
   "metadata": {},
   "outputs": [
    {
     "data": {
      "text/html": [
       "<div>\n",
       "<style scoped>\n",
       "    .dataframe tbody tr th:only-of-type {\n",
       "        vertical-align: middle;\n",
       "    }\n",
       "\n",
       "    .dataframe tbody tr th {\n",
       "        vertical-align: top;\n",
       "    }\n",
       "\n",
       "    .dataframe thead th {\n",
       "        text-align: right;\n",
       "    }\n",
       "</style>\n",
       "<table border=\"1\" class=\"dataframe\">\n",
       "  <thead>\n",
       "    <tr style=\"text-align: right;\">\n",
       "      <th></th>\n",
       "      <th>id</th>\n",
       "      <th>gender</th>\n",
       "      <th>age</th>\n",
       "      <th>hypertension</th>\n",
       "      <th>heart_disease</th>\n",
       "      <th>ever_married</th>\n",
       "      <th>work_type</th>\n",
       "      <th>Residence_type</th>\n",
       "      <th>avg_glucose_level</th>\n",
       "      <th>bmi</th>\n",
       "      <th>smoking_status</th>\n",
       "      <th>stroke</th>\n",
       "    </tr>\n",
       "  </thead>\n",
       "  <tbody>\n",
       "    <tr>\n",
       "      <th>0</th>\n",
       "      <td>9046</td>\n",
       "      <td>Male</td>\n",
       "      <td>67.0</td>\n",
       "      <td>0</td>\n",
       "      <td>1</td>\n",
       "      <td>Yes</td>\n",
       "      <td>Private</td>\n",
       "      <td>Urban</td>\n",
       "      <td>228.69</td>\n",
       "      <td>36.6</td>\n",
       "      <td>formerly smoked</td>\n",
       "      <td>1</td>\n",
       "    </tr>\n",
       "    <tr>\n",
       "      <th>1</th>\n",
       "      <td>51676</td>\n",
       "      <td>Female</td>\n",
       "      <td>61.0</td>\n",
       "      <td>0</td>\n",
       "      <td>0</td>\n",
       "      <td>Yes</td>\n",
       "      <td>Self-employed</td>\n",
       "      <td>Rural</td>\n",
       "      <td>202.21</td>\n",
       "      <td>NaN</td>\n",
       "      <td>never smoked</td>\n",
       "      <td>1</td>\n",
       "    </tr>\n",
       "  </tbody>\n",
       "</table>\n",
       "</div>"
      ],
      "text/plain": [
       "      id  gender   age  hypertension  heart_disease ever_married  \\\n",
       "0   9046    Male  67.0             0              1          Yes   \n",
       "1  51676  Female  61.0             0              0          Yes   \n",
       "\n",
       "       work_type Residence_type  avg_glucose_level   bmi   smoking_status  \\\n",
       "0        Private          Urban             228.69  36.6  formerly smoked   \n",
       "1  Self-employed          Rural             202.21   NaN     never smoked   \n",
       "\n",
       "   stroke  \n",
       "0       1  \n",
       "1       1  "
      ]
     },
     "execution_count": 2,
     "metadata": {},
     "output_type": "execute_result"
    }
   ],
   "source": [
    "# importing data\n",
    "get_data_csv().head(2)"
   ]
  },
  {
   "cell_type": "markdown",
   "id": "impossible-bible",
   "metadata": {},
   "source": [
    "## Prepare\n",
    "\n",
    "#### Clean \n",
    ">    * Renamed columns to be pythonic\n",
    ">    * Dropped the 'smoking_status' column because 30% of the column values were 'Unknown'\n",
    ">    * Dropped the 'id' column because it will not add value during exploration or modeling\n",
    ">    * Dropped rows that were missing 'bmi' vlaues becasue they only made up 3% of the observations\n",
    ">    * *Outliers* remained becasue with health outliers can be a significant indicator for different illnesses or risk for illnesses\n",
    "\n",
    "#### Prepare\n",
    "> Bins were created for the following features:\n",
    ">    * *age:* Bins made based on what decade of years an individual had were created.\n",
    ">    * *bmi:* Five bins created. BMI has many correlations with health complications, but it is not a true measure of body fat. 5 bins based on the values present in the dataset were used instead of bins based on common interpretations.\n",
    "        * Source: https://onlinelibrary.wiley.com/doi/abs/10.1046/j.1467-789x.2001.00031.x\n",
    ">    * *avg_glucose_level:* There is not enough information to determine what tests were used (fasting, glucose tolerance test, or random) to calculate the average glucose level. The ranges proposed by the Glucose Tolerance Test from the CDC will be used as different categories in combination with Cleveland Clinic recommendation.\n",
    "        * Source: https://my.clevelandclinic.org/health/diagnostics/12363-blood-glucose-test\n",
    "        * Source: https://www.cdc.gov/diabetes/basics/getting-tested.html#:~:text=A%20fasting%20blood%20sugar%20level,higher%20indicates%20you%20have%20diabetes.\n",
    "#### Split\n",
    ">The data was split into train, validate, and test"
   ]
  },
  {
   "cell_type": "code",
   "execution_count": 3,
   "id": "flexible-irrigation",
   "metadata": {},
   "outputs": [],
   "source": [
    "# getting prepared and split data\n",
    "train, validate, test = wrangle_data()"
   ]
  },
  {
   "cell_type": "markdown",
   "id": "immediate-mirror",
   "metadata": {},
   "source": [
    "## Explore"
   ]
  },
  {
   "cell_type": "markdown",
   "id": "4a01f1ca",
   "metadata": {},
   "source": [
    "### 1. What does stroke look like in the dataset?"
   ]
  },
  {
   "cell_type": "code",
   "execution_count": 4,
   "id": "a79de09e",
   "metadata": {},
   "outputs": [
    {
     "data": {
      "image/png": "[encoded data removed]",
      "text/plain": [
       "<Figure size 640x480 with 1 Axes>"
      ]
     },
     "metadata": {},
     "output_type": "display_data"
    }
   ],
   "source": [
    "# get visual\n",
    "get_stroke_visual(train)"
   ]
  },
  {
   "cell_type": "markdown",
   "id": "c353cc4f",
   "metadata": {},
   "source": [
    "##### Takeaways:\n",
    "* The dataset is very imbalanced\n",
    "* The vast majority of the dataset contains observations without stroke which may cause challenges during modeling"
   ]
  },
  {
   "cell_type": "markdown",
   "id": "14852af7",
   "metadata": {},
   "source": [
    " ### 2. Is there a relationship age and stroke?"
   ]
  },
  {
   "cell_type": "code",
   "execution_count": 5,
   "id": "408053aa",
   "metadata": {},
   "outputs": [
    {
     "data": {
      "image/png": "[encoded data removed]",
      "text/plain": [
       "<Figure size 640x480 with 1 Axes>"
      ]
     },
     "metadata": {},
     "output_type": "display_data"
    }
   ],
   "source": [
    "# get unbinned visual, a density plot, and binned visuals\n",
    "get_age_visual(train)"
   ]
  },
  {
   "cell_type": "markdown",
   "id": "716d7910",
   "metadata": {},
   "source": [
    ">##### Takeaways:\n",
    ">* There is a significantly higher number of older individuals having strokes than younger individuals"
   ]
  },
  {
   "cell_type": "markdown",
   "id": "515b1fdf",
   "metadata": {},
   "source": [
    "> ##### Chi-Squared:\n",
    ">- H$_0$: There is not a significant relationship between stroke and age.\n",
    ">- H$_a$: There is a significant relationship between stroke and age.\n",
    ">- Confidence Interval: 95%\n",
    ">- $a$: 0.05"
   ]
  },
  {
   "cell_type": "code",
   "execution_count": 6,
   "id": "f989ab68",
   "metadata": {},
   "outputs": [
    {
     "name": "stdout",
     "output_type": "stream",
     "text": [
      "There exists some relationship between stroke and age bins. (p-value: 1.1233708410310633e-33)\n"
     ]
    }
   ],
   "source": [
    "# get stats results\n",
    "eval_results(train, 'age_bins')"
   ]
  },
  {
   "cell_type": "markdown",
   "id": "11d9a87b",
   "metadata": {},
   "source": [
    "We can reject the null hypothesis."
   ]
  },
  {
   "cell_type": "markdown",
   "id": "1e869dcd",
   "metadata": {},
   "source": [
    "### 3. Is there a relationship between gender and stroke?"
   ]
  },
  {
   "cell_type": "code",
   "execution_count": 7,
   "id": "a3328135",
   "metadata": {},
   "outputs": [
    {
     "data": {
      "image/png": "[encoded data removed]",
      "text/plain": [
       "<Figure size 640x480 with 1 Axes>"
      ]
     },
     "metadata": {},
     "output_type": "display_data"
    }
   ],
   "source": [
    "# get unbinned visual, a density plot, and binned visuals\n",
    "get_gender_visual(train)"
   ]
  },
  {
   "cell_type": "markdown",
   "id": "48e58aa9",
   "metadata": {},
   "source": [
    "> ##### Takeaways:\n",
    "> * There doesn't appear to be a relationship between gender and stroke.\n",
    "> * 'Other': The lack of stroke in it's proportions is not because of the  of strokes relationship to the other gender, but becasue the other gender is especially small in this dataset."
   ]
  },
  {
   "cell_type": "markdown",
   "id": "e122f855",
   "metadata": {},
   "source": [
    "> ##### Chi-Squared:\n",
    ">- H$_0$: There is not a significant relationship between stroke and gender.\n",
    ">- H$_a$: There is a significant relationship between stroke and gender.\n",
    ">- Confidence Interval: 95%\n",
    ">- $a$: 0.05"
   ]
  },
  {
   "cell_type": "code",
   "execution_count": 8,
   "id": "e0f5175f",
   "metadata": {},
   "outputs": [
    {
     "name": "stdout",
     "output_type": "stream",
     "text": [
      "There is not a significant relationship between stroke and gender. (p-value: 0.5046362035822145)\n"
     ]
    }
   ],
   "source": [
    "# get stats results\n",
    "eval_results(train, 'gender')"
   ]
  },
  {
   "cell_type": "markdown",
   "id": "804f499c",
   "metadata": {},
   "source": [
    "We cannot reject the null hypothesis."
   ]
  },
  {
   "cell_type": "markdown",
   "id": "ebaa3e10",
   "metadata": {},
   "source": [
    "### 4. Is there a relationship between blood sugar level and stroke?"
   ]
  },
  {
   "cell_type": "code",
   "execution_count": 9,
   "id": "0cb3dd80",
   "metadata": {},
   "outputs": [
    {
     "data": {
      "image/png": "[encoded data removed]",
      "text/plain": [
       "<Figure size 640x480 with 1 Axes>"
      ]
     },
     "metadata": {},
     "output_type": "display_data"
    }
   ],
   "source": [
    "# getting blood sugar\n",
    "get_blood_sugar_visual(train)"
   ]
  },
  {
   "cell_type": "markdown",
   "id": "57762b56",
   "metadata": {},
   "source": [
    ">##### Takeaways:\n",
    ">* There appears to be two clusters of people, one cluster with average blood sugar and one group with high blood suger.\n",
    ">* There appears to be a relationship between high blood sugar and stroke. \n",
    ">* Exploring  individuals with average blood sugar levels and stroke may be useful for identifying other features of interest that increase the risk of stroke for this group."
   ]
  },
  {
   "cell_type": "markdown",
   "id": "b7c61322",
   "metadata": {},
   "source": [
    "> ##### Chi-Squared:\n",
    ">- H$_0$: There is not a significant relationship between stroke and blood sugar levels.\n",
    ">- H$_a$: There is a significant relationship between stroke and blood sugar levels.\n",
    ">- Confidence Interval: 95%\n",
    ">- $a$: 0.05"
   ]
  },
  {
   "cell_type": "code",
   "execution_count": 10,
   "id": "262d32f0",
   "metadata": {
    "scrolled": true
   },
   "outputs": [
    {
     "name": "stdout",
     "output_type": "stream",
     "text": [
      "There exists some relationship between stroke and glucose bins. (p-value: 1.0801654601493803e-13)\n"
     ]
    }
   ],
   "source": [
    "# getting stats\n",
    "eval_results(train, 'glucose_bins')"
   ]
  },
  {
   "cell_type": "markdown",
   "id": "8c45fc73",
   "metadata": {},
   "source": [
    "We can reject the null hypothesis."
   ]
  },
  {
   "cell_type": "markdown",
   "id": "iraqi-sellers",
   "metadata": {},
   "source": [
    "## Exploration Summary\n",
    "* The dataset is imbalanced\n",
    "* Age and blood sugar appear to have an association with stroke\n",
    "* Gender did not have a relationship with stroke\n",
    "\n",
    "**Features for modeling:**\n",
    "* 'hypertension'\n",
    "* 'heart_disease'\n",
    "* 'age_bins'\n",
    "* 'glucose_bins'\n",
    "* 'bmi_bins'\n",
    "* 'ever_married'\n",
    "* 'work_type'"
   ]
  },
  {
   "cell_type": "markdown",
   "id": "minus-tulsa",
   "metadata": {},
   "source": [
    "## Modeling"
   ]
  },
  {
   "cell_type": "code",
   "execution_count": 11,
   "id": "f9277905",
   "metadata": {},
   "outputs": [],
   "source": [
    "# preprocessing\n",
    "X_train, y_train, X_resample, y_resample, X_validate, y_validate, X_test, y_test = preprocess()"
   ]
  },
  {
   "cell_type": "markdown",
   "id": "hydraulic-spectrum",
   "metadata": {},
   "source": [
    "### Introduction\n",
    "* Models will be evaluated using recall score as the focus\n",
    "* Strokes can be life threatening conditions. Correctly identifying those with the highest risk of stroke could potentially save lives. Recall scores allow us to understamd how often True Positives (stroke) are predicted by the model. \n",
    "* The baseline is a constant value of zero, which represents no stroke, becasue this was the most occuring value."
   ]
  },
  {
   "cell_type": "markdown",
   "id": "f4b3e41d",
   "metadata": {},
   "source": [
    "### Models and Scores"
   ]
  },
  {
   "cell_type": "code",
   "execution_count": 12,
   "id": "ranging-rebecca",
   "metadata": {},
   "outputs": [
    {
     "data": {
      "text/html": [
       "<div>\n",
       "<style scoped>\n",
       "    .dataframe tbody tr th:only-of-type {\n",
       "        vertical-align: middle;\n",
       "    }\n",
       "\n",
       "    .dataframe tbody tr th {\n",
       "        vertical-align: top;\n",
       "    }\n",
       "\n",
       "    .dataframe thead th {\n",
       "        text-align: right;\n",
       "    }\n",
       "</style>\n",
       "<table border=\"1\" class=\"dataframe\">\n",
       "  <thead>\n",
       "    <tr style=\"text-align: right;\">\n",
       "      <th>Algorithm</th>\n",
       "      <th>Baseline</th>\n",
       "      <th>GradientBoosting</th>\n",
       "      <th>LR C=.25</th>\n",
       "      <th>LR C=.5</th>\n",
       "      <th>LogisticRegression</th>\n",
       "      <th>SVC</th>\n",
       "      <th>VotingClassifier</th>\n",
       "    </tr>\n",
       "  </thead>\n",
       "  <tbody>\n",
       "    <tr>\n",
       "      <th>Recall Score</th>\n",
       "      <td>0.0</td>\n",
       "      <td>81.0</td>\n",
       "      <td>81.0</td>\n",
       "      <td>81.0</td>\n",
       "      <td>78.0</td>\n",
       "      <td>84.0</td>\n",
       "      <td>82.0</td>\n",
       "    </tr>\n",
       "    <tr>\n",
       "      <th>Accuracy Score</th>\n",
       "      <td>96.0</td>\n",
       "      <td>75.0</td>\n",
       "      <td>64.0</td>\n",
       "      <td>65.0</td>\n",
       "      <td>68.0</td>\n",
       "      <td>70.0</td>\n",
       "      <td>65.0</td>\n",
       "    </tr>\n",
       "    <tr>\n",
       "      <th>Precision Score</th>\n",
       "      <td>0.0</td>\n",
       "      <td>12.0</td>\n",
       "      <td>9.0</td>\n",
       "      <td>9.0</td>\n",
       "      <td>10.0</td>\n",
       "      <td>11.0</td>\n",
       "      <td>9.0</td>\n",
       "    </tr>\n",
       "    <tr>\n",
       "      <th>f1 Score</th>\n",
       "      <td>0.0</td>\n",
       "      <td>21.0</td>\n",
       "      <td>16.0</td>\n",
       "      <td>17.0</td>\n",
       "      <td>17.0</td>\n",
       "      <td>19.0</td>\n",
       "      <td>17.0</td>\n",
       "    </tr>\n",
       "    <tr>\n",
       "      <th>Confusion Matrix</th>\n",
       "      <td>[[2631, 0], [117, 0]]</td>\n",
       "      <td>[[1953, 678], [22, 95]]</td>\n",
       "      <td>[[1676, 955], [22, 95]]</td>\n",
       "      <td>[[1695, 936], [22, 95]]</td>\n",
       "      <td>[[1772, 859], [26, 91]]</td>\n",
       "      <td>[[1820, 811], [19, 98]]</td>\n",
       "      <td>[[1696, 935], [21, 96]]</td>\n",
       "    </tr>\n",
       "  </tbody>\n",
       "</table>\n",
       "</div>"
      ],
      "text/plain": [
       "Algorithm                      Baseline         GradientBoosting  \\\n",
       "Recall Score                        0.0                     81.0   \n",
       "Accuracy Score                     96.0                     75.0   \n",
       "Precision Score                     0.0                     12.0   \n",
       "f1 Score                            0.0                     21.0   \n",
       "Confusion Matrix  [[2631, 0], [117, 0]]  [[1953, 678], [22, 95]]   \n",
       "\n",
       "Algorithm                        LR C=.25                  LR C=.5  \\\n",
       "Recall Score                         81.0                     81.0   \n",
       "Accuracy Score                       64.0                     65.0   \n",
       "Precision Score                       9.0                      9.0   \n",
       "f1 Score                             16.0                     17.0   \n",
       "Confusion Matrix  [[1676, 955], [22, 95]]  [[1695, 936], [22, 95]]   \n",
       "\n",
       "Algorithm              LogisticRegression                      SVC  \\\n",
       "Recall Score                         78.0                     84.0   \n",
       "Accuracy Score                       68.0                     70.0   \n",
       "Precision Score                      10.0                     11.0   \n",
       "f1 Score                             17.0                     19.0   \n",
       "Confusion Matrix  [[1772, 859], [26, 91]]  [[1820, 811], [19, 98]]   \n",
       "\n",
       "Algorithm                VotingClassifier  \n",
       "Recall Score                         82.0  \n",
       "Accuracy Score                       65.0  \n",
       "Precision Score                       9.0  \n",
       "f1 Score                             17.0  \n",
       "Confusion Matrix  [[1696, 935], [21, 96]]  "
      ]
     },
     "execution_count": 12,
     "metadata": {},
     "output_type": "execute_result"
    }
   ],
   "source": [
    "# getting predictons on train\n",
    "predictions(X_resample, y_resample, X_train, y_train).T"
   ]
  },
  {
   "cell_type": "code",
   "execution_count": 13,
   "id": "a5576afd",
   "metadata": {},
   "outputs": [
    {
     "data": {
      "text/html": [
       "<div>\n",
       "<style scoped>\n",
       "    .dataframe tbody tr th:only-of-type {\n",
       "        vertical-align: middle;\n",
       "    }\n",
       "\n",
       "    .dataframe tbody tr th {\n",
       "        vertical-align: top;\n",
       "    }\n",
       "\n",
       "    .dataframe thead th {\n",
       "        text-align: right;\n",
       "    }\n",
       "</style>\n",
       "<table border=\"1\" class=\"dataframe\">\n",
       "  <thead>\n",
       "    <tr style=\"text-align: right;\">\n",
       "      <th>Algorithm</th>\n",
       "      <th>Baseline</th>\n",
       "      <th>GradientBoosting</th>\n",
       "      <th>LR C=.25</th>\n",
       "      <th>LR C=.5</th>\n",
       "      <th>LogisticRegression</th>\n",
       "      <th>SVC</th>\n",
       "      <th>VotingClassifier</th>\n",
       "    </tr>\n",
       "  </thead>\n",
       "  <tbody>\n",
       "    <tr>\n",
       "      <th>Recall Score</th>\n",
       "      <td>0.0</td>\n",
       "      <td>68.0</td>\n",
       "      <td>80.0</td>\n",
       "      <td>82.0</td>\n",
       "      <td>78.0</td>\n",
       "      <td>78.0</td>\n",
       "      <td>82.0</td>\n",
       "    </tr>\n",
       "    <tr>\n",
       "      <th>Accuracy Score</th>\n",
       "      <td>96.0</td>\n",
       "      <td>74.0</td>\n",
       "      <td>65.0</td>\n",
       "      <td>65.0</td>\n",
       "      <td>68.0</td>\n",
       "      <td>69.0</td>\n",
       "      <td>65.0</td>\n",
       "    </tr>\n",
       "    <tr>\n",
       "      <th>Precision Score</th>\n",
       "      <td>0.0</td>\n",
       "      <td>10.0</td>\n",
       "      <td>9.0</td>\n",
       "      <td>9.0</td>\n",
       "      <td>10.0</td>\n",
       "      <td>10.0</td>\n",
       "      <td>9.0</td>\n",
       "    </tr>\n",
       "    <tr>\n",
       "      <th>f1 Score</th>\n",
       "      <td>0.0</td>\n",
       "      <td>18.0</td>\n",
       "      <td>16.0</td>\n",
       "      <td>17.0</td>\n",
       "      <td>17.0</td>\n",
       "      <td>17.0</td>\n",
       "      <td>17.0</td>\n",
       "    </tr>\n",
       "    <tr>\n",
       "      <th>Confusion Matrix</th>\n",
       "      <td>[[1129, 0], [50, 0]]</td>\n",
       "      <td>[[836, 293], [16, 34]]</td>\n",
       "      <td>[[726, 403], [10, 40]]</td>\n",
       "      <td>[[726, 403], [9, 41]]</td>\n",
       "      <td>[[760, 369], [11, 39]]</td>\n",
       "      <td>[[770, 359], [11, 39]]</td>\n",
       "      <td>[[726, 403], [9, 41]]</td>\n",
       "    </tr>\n",
       "  </tbody>\n",
       "</table>\n",
       "</div>"
      ],
      "text/plain": [
       "Algorithm                     Baseline        GradientBoosting  \\\n",
       "Recall Score                       0.0                    68.0   \n",
       "Accuracy Score                    96.0                    74.0   \n",
       "Precision Score                    0.0                    10.0   \n",
       "f1 Score                           0.0                    18.0   \n",
       "Confusion Matrix  [[1129, 0], [50, 0]]  [[836, 293], [16, 34]]   \n",
       "\n",
       "Algorithm                       LR C=.25                LR C=.5  \\\n",
       "Recall Score                        80.0                   82.0   \n",
       "Accuracy Score                      65.0                   65.0   \n",
       "Precision Score                      9.0                    9.0   \n",
       "f1 Score                            16.0                   17.0   \n",
       "Confusion Matrix  [[726, 403], [10, 40]]  [[726, 403], [9, 41]]   \n",
       "\n",
       "Algorithm             LogisticRegression                     SVC  \\\n",
       "Recall Score                        78.0                    78.0   \n",
       "Accuracy Score                      68.0                    69.0   \n",
       "Precision Score                     10.0                    10.0   \n",
       "f1 Score                            17.0                    17.0   \n",
       "Confusion Matrix  [[760, 369], [11, 39]]  [[770, 359], [11, 39]]   \n",
       "\n",
       "Algorithm              VotingClassifier  \n",
       "Recall Score                       82.0  \n",
       "Accuracy Score                     65.0  \n",
       "Precision Score                     9.0  \n",
       "f1 Score                           17.0  \n",
       "Confusion Matrix  [[726, 403], [9, 41]]  "
      ]
     },
     "execution_count": 13,
     "metadata": {},
     "output_type": "execute_result"
    }
   ],
   "source": [
    "# getting predictons on validate\n",
    "predictions(X_resample, y_resample, X_validate, y_validate).T"
   ]
  },
  {
   "cell_type": "code",
   "execution_count": 14,
   "id": "e0092715",
   "metadata": {},
   "outputs": [
    {
     "data": {
      "text/html": [
       "<div>\n",
       "<style scoped>\n",
       "    .dataframe tbody tr th:only-of-type {\n",
       "        vertical-align: middle;\n",
       "    }\n",
       "\n",
       "    .dataframe tbody tr th {\n",
       "        vertical-align: top;\n",
       "    }\n",
       "\n",
       "    .dataframe thead th {\n",
       "        text-align: right;\n",
       "    }\n",
       "</style>\n",
       "<table border=\"1\" class=\"dataframe\">\n",
       "  <thead>\n",
       "    <tr style=\"text-align: right;\">\n",
       "      <th>Algorithm</th>\n",
       "      <th>Baseline</th>\n",
       "      <th>GradientBoosting</th>\n",
       "      <th>LR C=.25</th>\n",
       "      <th>LR C=.5</th>\n",
       "      <th>LogisticRegression</th>\n",
       "      <th>SVC</th>\n",
       "      <th>VotingClassifier</th>\n",
       "    </tr>\n",
       "  </thead>\n",
       "  <tbody>\n",
       "    <tr>\n",
       "      <th>Recall Score</th>\n",
       "      <td>0.0</td>\n",
       "      <td>13.0</td>\n",
       "      <td>1.0</td>\n",
       "      <td>-1.0</td>\n",
       "      <td>0.0</td>\n",
       "      <td>6.0</td>\n",
       "      <td>0.0</td>\n",
       "    </tr>\n",
       "    <tr>\n",
       "      <th>Accuracy Score</th>\n",
       "      <td>0.0</td>\n",
       "      <td>1.0</td>\n",
       "      <td>-1.0</td>\n",
       "      <td>0.0</td>\n",
       "      <td>0.0</td>\n",
       "      <td>1.0</td>\n",
       "      <td>0.0</td>\n",
       "    </tr>\n",
       "    <tr>\n",
       "      <th>Precision Score</th>\n",
       "      <td>0.0</td>\n",
       "      <td>2.0</td>\n",
       "      <td>0.0</td>\n",
       "      <td>0.0</td>\n",
       "      <td>0.0</td>\n",
       "      <td>1.0</td>\n",
       "      <td>0.0</td>\n",
       "    </tr>\n",
       "    <tr>\n",
       "      <th>f1 Score</th>\n",
       "      <td>0.0</td>\n",
       "      <td>3.0</td>\n",
       "      <td>0.0</td>\n",
       "      <td>0.0</td>\n",
       "      <td>0.0</td>\n",
       "      <td>2.0</td>\n",
       "      <td>0.0</td>\n",
       "    </tr>\n",
       "    <tr>\n",
       "      <th>Confusion Matrix</th>\n",
       "      <td>[[1502, 0], [67, 0]]</td>\n",
       "      <td>[[1117, 385], [6, 61]]</td>\n",
       "      <td>[[950, 552], [12, 55]]</td>\n",
       "      <td>[[969, 533], [13, 54]]</td>\n",
       "      <td>[[1012, 490], [15, 52]]</td>\n",
       "      <td>[[1050, 452], [8, 59]]</td>\n",
       "      <td>[[970, 532], [12, 55]]</td>\n",
       "    </tr>\n",
       "  </tbody>\n",
       "</table>\n",
       "</div>"
      ],
      "text/plain": [
       "Algorithm                     Baseline        GradientBoosting  \\\n",
       "Recall Score                       0.0                    13.0   \n",
       "Accuracy Score                     0.0                     1.0   \n",
       "Precision Score                    0.0                     2.0   \n",
       "f1 Score                           0.0                     3.0   \n",
       "Confusion Matrix  [[1502, 0], [67, 0]]  [[1117, 385], [6, 61]]   \n",
       "\n",
       "Algorithm                       LR C=.25                 LR C=.5  \\\n",
       "Recall Score                         1.0                    -1.0   \n",
       "Accuracy Score                      -1.0                     0.0   \n",
       "Precision Score                      0.0                     0.0   \n",
       "f1 Score                             0.0                     0.0   \n",
       "Confusion Matrix  [[950, 552], [12, 55]]  [[969, 533], [13, 54]]   \n",
       "\n",
       "Algorithm              LogisticRegression                     SVC  \\\n",
       "Recall Score                          0.0                     6.0   \n",
       "Accuracy Score                        0.0                     1.0   \n",
       "Precision Score                       0.0                     1.0   \n",
       "f1 Score                              0.0                     2.0   \n",
       "Confusion Matrix  [[1012, 490], [15, 52]]  [[1050, 452], [8, 59]]   \n",
       "\n",
       "Algorithm               VotingClassifier  \n",
       "Recall Score                         0.0  \n",
       "Accuracy Score                       0.0  \n",
       "Precision Score                      0.0  \n",
       "f1 Score                             0.0  \n",
       "Confusion Matrix  [[970, 532], [12, 55]]  "
      ]
     },
     "execution_count": 14,
     "metadata": {},
     "output_type": "execute_result"
    }
   ],
   "source": [
    "# getting difference between train and validate\n",
    "(predictions(X_resample, y_resample, X_train, y_train) - predictions(X_resample, y_resample, X_validate, y_validate)).T"
   ]
  },
  {
   "cell_type": "markdown",
   "id": "emotional-purchase",
   "metadata": {},
   "source": [
    " "
   ]
  },
  {
   "cell_type": "markdown",
   "id": "cd507323",
   "metadata": {},
   "source": [
    "### Test\n",
    "* When running these models with no set random state, their strength varies. Logistic Regression maintains the most stable scores between test and validate, but often performs with a smaller recall score than the others.\n",
    "* There are often large differences in performance between the train and validate sets.\n",
    "* We will use a VotingClassifier model that uses all models to decide what to do. This will allow us to maintin consistently strong results, reducing the impact of the random state and the data fed to the model."
   ]
  },
  {
   "cell_type": "code",
   "execution_count": 15,
   "id": "c1b4fedf",
   "metadata": {},
   "outputs": [
    {
     "data": {
      "text/html": [
       "<div>\n",
       "<style scoped>\n",
       "    .dataframe tbody tr th:only-of-type {\n",
       "        vertical-align: middle;\n",
       "    }\n",
       "\n",
       "    .dataframe tbody tr th {\n",
       "        vertical-align: top;\n",
       "    }\n",
       "\n",
       "    .dataframe thead th {\n",
       "        text-align: right;\n",
       "    }\n",
       "</style>\n",
       "<table border=\"1\" class=\"dataframe\">\n",
       "  <thead>\n",
       "    <tr style=\"text-align: right;\">\n",
       "      <th>Algorithm</th>\n",
       "      <th>VotingClassifier_uniform</th>\n",
       "    </tr>\n",
       "  </thead>\n",
       "  <tbody>\n",
       "    <tr>\n",
       "      <th>Recall Score</th>\n",
       "      <td>83.0</td>\n",
       "    </tr>\n",
       "    <tr>\n",
       "      <th>Accuracy Score</th>\n",
       "      <td>66.0</td>\n",
       "    </tr>\n",
       "    <tr>\n",
       "      <th>Precision Score</th>\n",
       "      <td>10.0</td>\n",
       "    </tr>\n",
       "    <tr>\n",
       "      <th>f1 Score</th>\n",
       "      <td>17.0</td>\n",
       "    </tr>\n",
       "    <tr>\n",
       "      <th>Confusion Matrix</th>\n",
       "      <td>[[614, 326], [7, 35]]</td>\n",
       "    </tr>\n",
       "  </tbody>\n",
       "</table>\n",
       "</div>"
      ],
      "text/plain": [
       "Algorithm        VotingClassifier_uniform\n",
       "Recall Score                         83.0\n",
       "Accuracy Score                       66.0\n",
       "Precision Score                      10.0\n",
       "f1 Score                             17.0\n",
       "Confusion Matrix    [[614, 326], [7, 35]]"
      ]
     },
     "execution_count": 15,
     "metadata": {},
     "output_type": "execute_result"
    }
   ],
   "source": [
    "# getting the voting classifier scores on test\n",
    "voting_predictions(X_resample, y_resample, X_test, y_test)"
   ]
  },
  {
   "cell_type": "markdown",
   "id": "bright-evans",
   "metadata": {},
   "source": [
    "### Modeling Wrap \n",
    "* All models performed better than the baseline when using recall as the core metric"
   ]
  },
  {
   "cell_type": "markdown",
   "id": "tutorial-twelve",
   "metadata": {},
   "source": [
    "## Conclusion\n",
    "\n",
    "### Summary\n",
    "* Stroke represented roughly 5% of the data which influenced the decision to oversample to accomodate for an imbalanced dataset\n",
    "* Demographically, only age had a significant relationship to stroke, while gender's independence could not be rejected\n",
    "* Average blood sugar level was found to have a statistically significant relationship to stroke\n",
    "* Preprocessing included oversampling as mentioned previously\n",
    "* Models created varied in strength and consistency therefore a VotingClassifier combining the results of the three strongest and most consistent models was used\n",
    "* On test, this model performed with a 83% recall and a 66% accuracy.\n",
    "\n",
    "### Recommendations\n",
    "* Acquire more health and demographic data\n",
    "* Increase the robustness of the smoking_status data\n",
    "* Use this model as a preliminary screening tool to asses stroke risk\n",
    "\n",
    "### Next Steps\n",
    "* Explore a mulit-variate analysis\n",
    "* Feature engineer using clustering to further explore the blood sugar levels\n",
    "* Adjust hyperparameters of models"
   ]
  }
 ],
 "metadata": {
  "kernelspec": {
   "display_name": "Python 3 (ipykernel)",
   "language": "python",
   "name": "python3"
  },
  "language_info": {
   "codemirror_mode": {
    "name": "ipython",
    "version": 3
   },
   "file_extension": ".py",
   "mimetype": "text/x-python",
   "name": "python",
   "nbconvert_exporter": "python",
   "pygments_lexer": "ipython3",
   "version": "3.9.13"
  }
 },
 "nbformat": 4,
 "nbformat_minor": 5
}
